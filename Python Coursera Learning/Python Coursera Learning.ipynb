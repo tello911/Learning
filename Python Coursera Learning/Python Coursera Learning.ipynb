{
 "cells": [
  {
   "cell_type": "code",
   "execution_count": 3,
   "id": "7bbdde85",
   "metadata": {},
   "outputs": [
    {
     "data": {
      "text/plain": [
       "3"
      ]
     },
     "execution_count": 3,
     "metadata": {},
     "output_type": "execute_result"
    }
   ],
   "source": [
    "A=((1),[2,3],[4])\n",
    "A[1][1]"
   ]
  },
  {
   "cell_type": "code",
   "execution_count": 13,
   "id": "dc5aad13",
   "metadata": {},
   "outputs": [
    {
     "name": "stdout",
     "output_type": "stream",
     "text": [
      "None\n"
     ]
    }
   ],
   "source": [
    "L = ['c', 'd']\n",
    "L = L.append(['a','b'])\n",
    "print(L)"
   ]
  },
  {
   "cell_type": "code",
   "execution_count": 16,
   "id": "09128a46",
   "metadata": {},
   "outputs": [
    {
     "data": {
      "text/plain": [
       "['hard rock', 1.2]"
      ]
     },
     "execution_count": 16,
     "metadata": {},
     "output_type": "execute_result"
    }
   ],
   "source": [
    "A=[\"hard rock\",10,1.2]\n",
    "del(A[1])\n",
    "A"
   ]
  },
  {
   "cell_type": "code",
   "execution_count": 17,
   "id": "35e5c547",
   "metadata": {},
   "outputs": [
    {
     "data": {
      "text/plain": [
       "2"
      ]
     },
     "execution_count": 17,
     "metadata": {},
     "output_type": "execute_result"
    }
   ],
   "source": [
    " len((\"disco\",10))"
   ]
  },
  {
   "cell_type": "code",
   "execution_count": 20,
   "id": "920c75dd",
   "metadata": {},
   "outputs": [
    {
     "data": {
      "text/plain": [
       "{'A', 'B', 'C'}"
      ]
     },
     "execution_count": 20,
     "metadata": {},
     "output_type": "execute_result"
    }
   ],
   "source": [
    "V={'A','B'}\n",
    "V.add('C')\n",
    "V"
   ]
  },
  {
   "cell_type": "code",
   "execution_count": 21,
   "id": "279f5b43",
   "metadata": {},
   "outputs": [
    {
     "data": {
      "text/plain": [
       "True"
      ]
     },
     "execution_count": 21,
     "metadata": {},
     "output_type": "execute_result"
    }
   ],
   "source": [
    "'A' in {'A','B'}"
   ]
  },
  {
   "cell_type": "code",
   "execution_count": 22,
   "id": "b75d42f3",
   "metadata": {},
   "outputs": [
    {
     "name": "stdout",
     "output_type": "stream",
     "text": [
      "x= A  y= B\n"
     ]
    }
   ],
   "source": [
    "class Points(object):\n",
    "    def __init__(self, x, y):\n",
    "        self.x = x \n",
    "        self.y = y \n",
    "\n",
    "\n",
    "    def print_point(self): \n",
    "        print('x=', self.x, ' y=', self.y) \n",
    "\n",
    "\n",
    "p1 = Points(\"A\", \"B\") \n",
    "p1.print_point()\n"
   ]
  },
  {
   "cell_type": "code",
   "execution_count": 23,
   "id": "56c5bbb2",
   "metadata": {},
   "outputs": [
    {
     "name": "stdout",
     "output_type": "stream",
     "text": [
      "1 A\n",
      "2 B\n",
      "3 C\n"
     ]
    }
   ],
   "source": [
    "for i, x in enumerate(['A', 'B', 'C']): \n",
    "    print(i + 1, x)"
   ]
  },
  {
   "cell_type": "code",
   "execution_count": 24,
   "id": "299d9f1c",
   "metadata": {},
   "outputs": [
    {
     "name": "stdout",
     "output_type": "stream",
     "text": [
      "x= 2  y= 2\n"
     ]
    }
   ],
   "source": [
    "class Points(object): \n",
    "    def __init__(self, x, y): \n",
    "        self.x = x \n",
    "        self.y = y \n",
    "    def print_point(self): \n",
    "        print('x=', self.x, ' y=', self.y) \n",
    "\n",
    "\n",
    "p2 = Points(1, 2) \n",
    "p2.x = 2 \n",
    "p2.print_point()"
   ]
  },
  {
   "cell_type": "code",
   "execution_count": 25,
   "id": "c1d07e2a",
   "metadata": {},
   "outputs": [
    {
     "data": {
      "text/plain": [
       "0"
      ]
     },
     "execution_count": 25,
     "metadata": {},
     "output_type": "execute_result"
    }
   ],
   "source": [
    "import numpy as np\n",
    "\n",
    "a=np.array([-1,1]) \n",
    "\n",
    "b=np.array([1,1]) \n",
    "\n",
    "np.dot(a,b) "
   ]
  },
  {
   "cell_type": "code",
   "execution_count": 27,
   "id": "c20d9899",
   "metadata": {},
   "outputs": [
    {
     "data": {
      "text/plain": [
       "array([1, 2])"
      ]
     },
     "execution_count": 27,
     "metadata": {},
     "output_type": "execute_result"
    }
   ],
   "source": [
    "X=np.array([[1,0,1],[2,2,2]]) \n",
    "\n",
    "out=X[0:2,2]\n",
    "out"
   ]
  },
  {
   "cell_type": "code",
   "execution_count": 29,
   "id": "7f865ab0",
   "metadata": {},
   "outputs": [
    {
     "data": {
      "text/plain": [
       "array([[2, 2],\n",
       "       [2, 2]])"
      ]
     },
     "execution_count": 29,
     "metadata": {},
     "output_type": "execute_result"
    }
   ],
   "source": [
    "X=np.array([[1,0],[0,1]])\n",
    "\n",
    "Y=np.array([[2,2],[2,2]]) \n",
    "\n",
    "out=np.dot(X,Y) \n",
    "out"
   ]
  },
  {
   "cell_type": "code",
   "execution_count": 31,
   "id": "f1e28b93",
   "metadata": {},
   "outputs": [
    {
     "data": {
      "text/plain": [
       "0"
      ]
     },
     "execution_count": 31,
     "metadata": {},
     "output_type": "execute_result"
    }
   ],
   "source": [
    "1//2"
   ]
  },
  {
   "cell_type": "code",
   "execution_count": 32,
   "id": "967333ba",
   "metadata": {},
   "outputs": [
    {
     "data": {
      "text/plain": [
       "['1', '2', '3', '4']"
      ]
     },
     "execution_count": 32,
     "metadata": {},
     "output_type": "execute_result"
    }
   ],
   "source": [
    "'1,2,3,4'.split(',')"
   ]
  },
  {
   "cell_type": "code",
   "execution_count": 33,
   "id": "256ec1fe",
   "metadata": {},
   "outputs": [
    {
     "name": "stdout",
     "output_type": "stream",
     "text": [
      "Hi\n",
      "Mike\n"
     ]
    }
   ],
   "source": [
    "x = 7\n",
    "if(x!=1): \n",
    "\n",
    " print('Hi') \n",
    "\n",
    "else: \n",
    "\n",
    " print('Hello')\n",
    "\n",
    "print('Mike')"
   ]
  },
  {
   "cell_type": "code",
   "execution_count": 40,
   "id": "9d8b2e63",
   "metadata": {},
   "outputs": [
    {
     "ename": "TypeError",
     "evalue": "Rectangle.drawRectangle() takes 1 positional argument but 2 were given",
     "output_type": "error",
     "traceback": [
      "\u001b[1;31m---------------------------------------------------------------------------\u001b[0m",
      "\u001b[1;31mTypeError\u001b[0m                                 Traceback (most recent call last)",
      "Cell \u001b[1;32mIn[40], line 20\u001b[0m\n\u001b[0;32m     17\u001b[0m         plt\u001b[38;5;241m.\u001b[39maxis(\u001b[38;5;124m'\u001b[39m\u001b[38;5;124mscaled\u001b[39m\u001b[38;5;124m'\u001b[39m)\n\u001b[0;32m     18\u001b[0m         plt\u001b[38;5;241m.\u001b[39mshow()\n\u001b[1;32m---> 20\u001b[0m Rectangle\u001b[38;5;241m.\u001b[39mdrawRectangle(\u001b[38;5;241m2\u001b[39m,\u001b[38;5;241m3\u001b[39m)\n",
      "\u001b[1;31mTypeError\u001b[0m: Rectangle.drawRectangle() takes 1 positional argument but 2 were given"
     ]
    }
   ],
   "source": [
    "class Rectangle(object): \n",
    "\n",
    "    def __init__(self,width=2,height =3,color='r'):\n",
    "\n",
    "        self.height=height \n",
    "\n",
    "        self.width=width \n",
    "\n",
    "        self.color=color \n",
    "\n",
    "    def drawRectangle(self): \n",
    "\n",
    "        import matplotlib.pyplot as plt \n",
    "\n",
    "        plt.gca().add_patch(plt.Rectangle((0, 0),self.width, self.height ,fc=self.color)) \n",
    "\n",
    "        plt.axis('scaled')\n",
    "        plt.show()\n",
    "        \n",
    "Rectangle.drawRectangle(2,3)"
   ]
  },
  {
   "cell_type": "code",
   "execution_count": 41,
   "id": "fd18c867",
   "metadata": {},
   "outputs": [
    {
     "data": {
      "text/plain": [
       "array([0, 0, 0, 0, 0])"
      ]
     },
     "execution_count": 41,
     "metadata": {},
     "output_type": "execute_result"
    }
   ],
   "source": [
    "a=np.array([0,1,0,1,0]) \n",
    "\n",
    "b=np.array([1,0,1,0,1]) \n",
    "\n",
    "a*b"
   ]
  },
  {
   "cell_type": "code",
   "execution_count": 42,
   "id": "bd5c6815",
   "metadata": {},
   "outputs": [
    {
     "data": {
      "text/plain": [
       "array([11, 11, 11, 11, 11])"
      ]
     },
     "execution_count": 42,
     "metadata": {},
     "output_type": "execute_result"
    }
   ],
   "source": [
    "a=np.array([1,1,1,1,1]) \n",
    "\n",
    "a+10"
   ]
  },
  {
   "cell_type": "code",
   "execution_count": 141,
   "id": "59d9d535",
   "metadata": {},
   "outputs": [
    {
     "name": "stdout",
     "output_type": "stream",
     "text": [
      "JPMorgan Chase\n",
      "Bank of America\n",
      "Industrial and Commercial Bank of China\n",
      "Agricultural Bank of China\n",
      "HDFC Bank\n",
      "Wells Fargo\n",
      "HSBC Holdings PLC\n",
      "Morgan Stanley\n",
      "China Construction Bank\n",
      "Bank of China\n",
      "SELECT * from Largest_banks\n",
      "                                 Bank name  Market cap  MC_GBP_Billion  \\\n",
      "0                            Bank of China      136.81          109.45   \n",
      "1                  China Construction Bank      139.82          111.86   \n",
      "2                           Morgan Stanley      140.83          112.66   \n",
      "3                        HSBC Holdings PLC      148.90          119.12   \n",
      "4                              Wells Fargo      155.87          124.70   \n",
      "5                                HDFC Bank      157.91          126.33   \n",
      "6               Agricultural Bank of China      160.68          128.54   \n",
      "7  Industrial and Commercial Bank of China      194.56          155.65   \n",
      "8                          Bank of America      231.52          185.22   \n",
      "9                           JPMorgan Chase      432.92          346.34   \n",
      "\n",
      "   MC_EUR_Billion  MC_INR_Billion  \n",
      "0          127.23        11348.39  \n",
      "1          130.03        11598.07  \n",
      "2          130.97        11681.85  \n",
      "3          138.48        12351.26  \n",
      "4          144.96        12929.42  \n",
      "5          146.86        13098.63  \n",
      "6          149.43        13328.41  \n",
      "7          180.94        16138.75  \n",
      "8          215.31        19204.58  \n",
      "9          402.62        35910.71  \n"
     ]
    }
   ],
   "source": [
    "\n",
    "from bs4 import BeautifulSoup\n",
    "import requests\n",
    "import pandas as pd\n",
    "import numpy as np\n",
    "import sqlite3\n",
    "from datetime import datetime \n",
    "\n",
    "# Code for ETL operations on Country-GDP data\n",
    "url = 'https://web.archive.org/web/20230908091635 /https://en.wikipedia.org/wiki/List_of_largest_banks'\n",
    "exchange_rate_path = 'https://cf-courses-data.s3.us.cloud-object-storage.appdomain.cloud/IBMSkillsNetwork-PY0221EN-Coursera/labs/v2/exchange_rate.csv'\n",
    "exchange_rate_csv = './exchange_rate.csv'\n",
    "table_attribs = [\"Bank name\", \"Market cap\"]\n",
    "final_table_attribs = [\"Name\", \"MC_USD_Billion\",\"MC_GBP_Billion\",\"MC_EUR_Billion\",\"MC_INR_Billion\"]\n",
    "db_name = 'Banks.db'\n",
    "table_name = 'Largest_banks'\n",
    "output_path = './Largest_banks_data.csv'\n",
    "log_file = 'code_log.txt'\n",
    "\n",
    "def log_progress(message):\n",
    "    ''' This function logs the mentioned message at a given stage of the \n",
    "    code execution to a log file. Function returns nothing.'''\n",
    "    timestamp_format = '%Y-%h-%d-%H:%M:%S' # Year-Monthname-Day-Hour-Minute-Second \n",
    "    now = datetime.now() # get current timestamp \n",
    "    timestamp = now.strftime(timestamp_format) \n",
    "    with open(log_file,\"a\") as f: \n",
    "        f.write(timestamp + ' : ' + message + '\\n')\n",
    "\n",
    "def extract(url, table_attribs):\n",
    "    page = requests.get(url).text\n",
    "    data = BeautifulSoup(page,'html.parser')\n",
    "    df = pd.DataFrame(columns=table_attribs)\n",
    "    tables = data.find_all('tbody')\n",
    "    rows = tables[0].find_all('tr')\n",
    "    for row in rows:\n",
    "        col = row.find_all('td')\n",
    "        if len(col)!=0:\n",
    "#             print(col[1].find_all('a')[1].text)\n",
    "            if col[0] is not None:\n",
    "                data_dict = {\"Bank name\": col[1].find_all('a')[1].text,\n",
    "                             \"Market cap\": float(col[2].contents[0])}\n",
    "                df1 = pd.DataFrame(data_dict, index=[0])\n",
    "                df = pd.concat([df1,df], ignore_index=True)\n",
    "    return df\n",
    "\n",
    "def transform(df, csv_path):\n",
    "    ''' This function accesses the CSV file for exchange rate\n",
    "    information, and adds three columns to the data frame, each\n",
    "    containing the transformed version of Market Cap column to\n",
    "    respective currencies'''\n",
    "    \n",
    "    # Load exchange rate information from CSV file\n",
    "    exchange_rates = pd.read_csv(csv_path)\n",
    "    \n",
    "    # Convert exchange rates to a dictionary for easy access\n",
    "    rates = dict(zip(exchange_rates['Currency'], exchange_rates['Rate']))\n",
    "    \n",
    "    # Add new columns for Market Cap in GBP, EUR, and INR\n",
    "    df['MC_GBP_Billion'] = (df['Market cap'].astype(float) * rates['GBP']).round(2)\n",
    "    df['MC_EUR_Billion'] = (df['Market cap'].astype(float) * rates['EUR']).round(2)\n",
    "    df['MC_INR_Billion'] = (df['Market cap'].astype(float) * rates['INR']).round(2)\n",
    "    \n",
    "    return df\n",
    "\n",
    "def load_to_csv(df, output_path):\n",
    "    ''' This function saves the final data frame as a CSV file in\n",
    "    the provided path. Function returns nothing.'''\n",
    "    df.to_csv(output_path, index=False)\n",
    "\n",
    "def load_to_db(df, sql_connection, table_name):\n",
    "    ''' This function saves the final dataframe to as a database table\n",
    "    with the provided name. Function returns nothing.'''\n",
    "    df.to_sql(table_name, sql_connection, if_exists='replace', index=False)\n",
    "\n",
    "def run_query(query_statement, sql_connection):\n",
    "    ''' This function runs the stated query on the database table and\n",
    "    prints the output on the terminal. Function returns nothing. '''\n",
    "    print(query_statement)\n",
    "    query_output = pd.read_sql(query_statement, sql_connection)\n",
    "    print(query_output)\n",
    "        \n",
    "log_progress('Preliminaries complete. Initiating ETL process')\n",
    "df = extract(url, table_attribs)\n",
    "log_progress('Data extraction complete. Initiating Transformation process')\n",
    "df = transform(df,exchange_rate_csv)\n",
    "log_progress('Data transformation complete. Initiating loading process')\n",
    "load_to_csv(df, output_path)\n",
    "log_progress('Data saved to CSV file')\n",
    "sql_connection = sqlite3.connect('Banks.db')\n",
    "log_progress('SQL Connection initiated.')\n",
    "load_to_db(df, sql_connection, table_name)\n",
    "log_progress('Data loaded to Database as table. Running the query')\n",
    "query_statement = f\"SELECT * from {table_name}\"\n",
    "run_query(query_statement, sql_connection)\n",
    "log_progress('Process Complete.')\n",
    "sql_connection.close()\n"
   ]
  },
  {
   "cell_type": "code",
   "execution_count": null,
   "id": "1c36582a",
   "metadata": {},
   "outputs": [],
   "source": []
  }
 ],
 "metadata": {
  "kernelspec": {
   "display_name": "Python 3 (ipykernel)",
   "language": "python",
   "name": "python3"
  },
  "language_info": {
   "codemirror_mode": {
    "name": "ipython",
    "version": 3
   },
   "file_extension": ".py",
   "mimetype": "text/x-python",
   "name": "python",
   "nbconvert_exporter": "python",
   "pygments_lexer": "ipython3",
   "version": "3.11.5"
  }
 },
 "nbformat": 4,
 "nbformat_minor": 5
}
