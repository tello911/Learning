{
 "cells": [
  {
   "cell_type": "code",
   "execution_count": null,
   "id": "6784c9c0",
   "metadata": {},
   "outputs": [],
   "source": [
    "Splitting Data by Ticker and Storing in Blob [4 Points]\n",
    "Given that all ticker data is stored in a table, how would you split the data based on the ticker and store each subset in a blob storage?\n",
    "Modify the file name format to include the ticker name, datetime, and ingestion timestamp.\n",
    "Expected file format: tickername_datetime_ingested"
   ]
  }
 ],
 "metadata": {
  "kernelspec": {
   "display_name": "Python 3 (ipykernel)",
   "language": "python",
   "name": "python3"
  },
  "language_info": {
   "codemirror_mode": {
    "name": "ipython",
    "version": 3
   },
   "file_extension": ".py",
   "mimetype": "text/x-python",
   "name": "python",
   "nbconvert_exporter": "python",
   "pygments_lexer": "ipython3",
   "version": "3.11.5"
  }
 },
 "nbformat": 4,
 "nbformat_minor": 5
}
